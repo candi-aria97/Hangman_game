{
 "cells": [
  {
   "cell_type": "code",
   "execution_count": 1,
   "id": "ad0fa0db",
   "metadata": {},
   "outputs": [
    {
     "data": {
      "text/plain": [
       "4"
      ]
     },
     "execution_count": 1,
     "metadata": {},
     "output_type": "execute_result"
    }
   ],
   "source": [
    "2+2"
   ]
  },
  {
   "cell_type": "code",
   "execution_count": 4,
   "id": "9abd700e",
   "metadata": {},
   "outputs": [],
   "source": [
    "word= ['halitosis','cave','harbinger','mystery']\n",
    "from random import shuffle\n",
    "shuffle(word)\n",
    "guess_word = word.pop()\n",
    "lives = 10 \n",
    "guessed_words = ''"
   ]
  },
  {
   "cell_type": "code",
   "execution_count": 9,
   "id": "adbcbb69",
   "metadata": {},
   "outputs": [
    {
     "name": "stdout",
     "output_type": "stream",
     "text": [
      "Do you want to start??(y or n) n\n",
      "Sad face\n"
     ]
    }
   ],
   "source": [
    "choice = ''\n",
    "while choice not in ['y','n']:\n",
    "    choice = input('Do you want to start??(y or n) ') \n",
    "    if choice == 'y':\n",
    "        print('game begins')\n",
    "        \n",
    "    elif choice == 'n':         \n",
    "        print ('Sad face')\n",
    "        break\n",
    "   "
   ]
  },
  {
   "cell_type": "code",
   "execution_count": 31,
   "id": "ef44f4ad",
   "metadata": {},
   "outputs": [],
   "source": [
    "blanks = ' _ '*len(guess_word)\n"
   ]
  },
  {
   "cell_type": "code",
   "execution_count": 16,
   "id": "62d187d2",
   "metadata": {},
   "outputs": [
    {
     "name": "stdout",
     "output_type": "stream",
     "text": [
      "Guess a letter in the hidden word q\n",
      "incorrect guess\n",
      "X\n",
      "_\n"
     ]
    }
   ],
   "source": [
    "for i in guess_word:\n",
    "    guess = input('Guess a letter in the hidden word ')\n",
    "    if guess in guess_word:\n",
    "        print('That is correct')\n",
    "        print(guess, end='')\n",
    "    elif lives == 0:\n",
    "            print('You have made the max amount of guesses')\n",
    "    else:\n",
    "            print('incorrect guess')\n",
    "            print(f'X\\n_')\n",
    "            break"
   ]
  },
  {
   "cell_type": "code",
   "execution_count": 20,
   "id": "4857bc77",
   "metadata": {},
   "outputs": [
    {
     "name": "stdout",
     "output_type": "stream",
     "text": [
      "Do you want to start??(y or n) n\n",
      "Sad face\n"
     ]
    }
   ],
   "source": [
    "word= ['halitosis','cave','harbinger','mystery']\n",
    "from random import shuffle\n",
    "shuffle(word)\n",
    "guess_word = word.pop()\n",
    "lives = 10 \n",
    "guessed_words = ''\n",
    "blanks = ' _ '*len(guess_word)\n",
    "choice = ''\n",
    "while choice not in ['y','n']:\n",
    "    choice = input('Do you want to start??(y or n) ') \n",
    "    if choice == 'y':\n",
    "        print('game begins')\n",
    "        \n",
    "    elif choice == 'n':         \n",
    "        print ('Sad face')\n",
    "        break\n",
    "while choice in 'y':\n",
    "    for i in guess_word:\n",
    "        guess = input('Guess a letter in the hidden word ')\n",
    "        if len(guess)== len(guess_word):\n",
    "            print('yes')\n",
    "            print('You have made the max amount of guesses')\n",
    "        \n",
    "        if guess in guess_word:\n",
    "            print('That is correct')\n",
    "        \n",
    "        else:\n",
    "            print('incorrect guess')\n",
    "        \n",
    "        \n",
    "    break"
   ]
  },
  {
   "cell_type": "code",
   "execution_count": 21,
   "id": "aa719c80",
   "metadata": {},
   "outputs": [
    {
     "data": {
      "text/plain": [
       "' _  _  _  _ '"
      ]
     },
     "execution_count": 21,
     "metadata": {},
     "output_type": "execute_result"
    }
   ],
   "source": [
    "blanks"
   ]
  },
  {
   "cell_type": "code",
   "execution_count": 13,
   "id": "af4a3d0f",
   "metadata": {},
   "outputs": [
    {
     "name": "stdout",
     "output_type": "stream",
     "text": [
      "X\n",
      "_\n"
     ]
    }
   ],
   "source": [
    "print(f'X\\n_')"
   ]
  },
  {
   "cell_type": "code",
   "execution_count": 23,
   "id": "12700c2e",
   "metadata": {},
   "outputs": [
    {
     "data": {
      "text/plain": [
       "11"
      ]
     },
     "execution_count": 23,
     "metadata": {},
     "output_type": "execute_result"
    }
   ],
   "source": [
    "len(blanks)-1\n"
   ]
  },
  {
   "cell_type": "code",
   "execution_count": 24,
   "id": "6afd94e7",
   "metadata": {},
   "outputs": [
    {
     "data": {
      "text/plain": [
       "'_'"
      ]
     },
     "execution_count": 24,
     "metadata": {},
     "output_type": "execute_result"
    }
   ],
   "source": [
    "blanks[1]"
   ]
  },
  {
   "cell_type": "code",
   "execution_count": null,
   "id": "0f60dd1a",
   "metadata": {},
   "outputs": [],
   "source": [
    "for len(blanks) in guess_word:\n",
    "    if guess in guess_word:\n",
    "        print('Correct')\n",
    "        print(guess in )"
   ]
  },
  {
   "cell_type": "code",
   "execution_count": null,
   "id": "9017864b",
   "metadata": {},
   "outputs": [],
   "source": [
    "word= ['halitosis','cave','harbinger','mystery']\n",
    "def dis_board(board):\n",
    "    board =  _ \n",
    "    position = guess_word[:]\n",
    "    \n",
    "    \n",
    "    "
   ]
  },
  {
   "cell_type": "code",
   "execution_count": 86,
   "id": "9d0548d8",
   "metadata": {},
   "outputs": [
    {
     "ename": "SyntaxError",
     "evalue": "cannot assign to literal (<ipython-input-86-b5d814f35402>, line 1)",
     "output_type": "error",
     "traceback": [
      "\u001b[0;36m  File \u001b[0;32m\"<ipython-input-86-b5d814f35402>\"\u001b[0;36m, line \u001b[0;32m1\u001b[0m\n\u001b[0;31m    b = 'bag' = ' _ ' * len(b)\u001b[0m\n\u001b[0m        ^\u001b[0m\n\u001b[0;31mSyntaxError\u001b[0m\u001b[0;31m:\u001b[0m cannot assign to literal\n"
     ]
    }
   ],
   "source": [
    " b = 'bag' = ' _ ' * len(b)"
   ]
  },
  {
   "cell_type": "code",
   "execution_count": 74,
   "id": "f890b3d7",
   "metadata": {},
   "outputs": [
    {
     "data": {
      "text/plain": [
       "'bag'"
      ]
     },
     "execution_count": 74,
     "metadata": {},
     "output_type": "execute_result"
    }
   ],
   "source": [
    "b"
   ]
  },
  {
   "cell_type": "code",
   "execution_count": 75,
   "id": "a02143b7",
   "metadata": {},
   "outputs": [
    {
     "data": {
      "text/plain": [
       "3"
      ]
     },
     "execution_count": 75,
     "metadata": {},
     "output_type": "execute_result"
    }
   ],
   "source": [
    "len(b)"
   ]
  },
  {
   "cell_type": "code",
   "execution_count": 79,
   "id": "f4410491",
   "metadata": {},
   "outputs": [],
   "source": [
    "x =  ' _ ' * len(b)"
   ]
  },
  {
   "cell_type": "code",
   "execution_count": 80,
   "id": "a37dbdb0",
   "metadata": {},
   "outputs": [
    {
     "data": {
      "text/plain": [
       "' _  _  _ '"
      ]
     },
     "execution_count": 80,
     "metadata": {},
     "output_type": "execute_result"
    }
   ],
   "source": [
    "x"
   ]
  },
  {
   "cell_type": "code",
   "execution_count": 85,
   "id": "a5d7f332",
   "metadata": {},
   "outputs": [
    {
     "data": {
      "text/plain": [
       "False"
      ]
     },
     "execution_count": 85,
     "metadata": {},
     "output_type": "execute_result"
    }
   ],
   "source": [
    "x[1] == b[1]"
   ]
  },
  {
   "cell_type": "code",
   "execution_count": 3,
   "id": "3b610d7f",
   "metadata": {},
   "outputs": [],
   "source": [
    "import os\n",
    "print('getcwd:')"
   ]
  },
  {
   "cell_type": "code",
   "execution_count": 9,
   "id": "28a2e8bb",
   "metadata": {},
   "outputs": [
    {
     "ename": "SyntaxError",
     "evalue": "unexpected character after line continuation character (<ipython-input-9-324df7da0594>, line 1)",
     "output_type": "error",
     "traceback": [
      "\u001b[0;36m  File \u001b[0;32m\"<ipython-input-9-324df7da0594>\"\u001b[0;36m, line \u001b[0;32m1\u001b[0m\n\u001b[0;31m    os.getcwd(hangman\\ game\\ base\\ code.ipynb)\u001b[0m\n\u001b[0m                                              ^\u001b[0m\n\u001b[0;31mSyntaxError\u001b[0m\u001b[0;31m:\u001b[0m unexpected character after line continuation character\n"
     ]
    }
   ],
   "source": [
    "os.getcwd(hangman\\ game\\ base\\ code.ipynb)"
   ]
  },
  {
   "cell_type": "code",
   "execution_count": 5,
   "id": "c7f112a1",
   "metadata": {},
   "outputs": [
    {
     "data": {
      "text/plain": [
       "'/Users/ittrade'"
      ]
     },
     "execution_count": 5,
     "metadata": {},
     "output_type": "execute_result"
    }
   ],
   "source": [
    "pwd()"
   ]
  },
  {
   "cell_type": "code",
   "execution_count": null,
   "id": "b019e92f",
   "metadata": {},
   "outputs": [],
   "source": []
  }
 ],
 "metadata": {
  "kernelspec": {
   "display_name": "Python 3",
   "language": "python",
   "name": "python3"
  },
  "language_info": {
   "codemirror_mode": {
    "name": "ipython",
    "version": 3
   },
   "file_extension": ".py",
   "mimetype": "text/x-python",
   "name": "python",
   "nbconvert_exporter": "python",
   "pygments_lexer": "ipython3",
   "version": "3.8.8"
  }
 },
 "nbformat": 4,
 "nbformat_minor": 5
}
